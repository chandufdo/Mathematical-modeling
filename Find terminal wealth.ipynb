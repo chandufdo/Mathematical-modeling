{
 "cells": [
  {
   "cell_type": "code",
   "execution_count": 1,
   "id": "3e731194",
   "metadata": {},
   "outputs": [
    {
     "name": "stdout",
     "output_type": "stream",
     "text": [
      "Enter the initial wealth : 100\n",
      "Enter the no:of losses : 4\n",
      "Enter the premium : 20\n",
      "L[0] = 0\n",
      "L[1] = 20\n",
      "L[2] = 50\n",
      "L[3] = 80\n",
      "Terminal wealth at 0.0 = 80.0\n",
      "Terminal wealth at 20.0 = 80.0\n",
      "Terminal wealth at 50.0 = 80.0\n",
      "Terminal wealth at 80.0 = 80.0\n"
     ]
    }
   ],
   "source": [
    "\n",
    "\n",
    "import numpy as np\n",
    "\n",
    "\n",
    "w = float(input(\"Enter the initial wealth : \"))\n",
    "n = int(input(\"Enter the no:of losses : \"))\n",
    "p = float(input(\"Enter the premium : \"))\n",
    "L = np.zeros(n)\n",
    "for i in range(n):\n",
    "    L[i] = float(input( 'L['+str(i)+'] = '))\n",
    "\n",
    "\n",
    "#W = terminal wealth\n",
    "#C = cover\n",
    "\n",
    "W = np.zeros(n)\n",
    "C = L      #Change the value of C accordinaly\n",
    "for i in range(n):\n",
    "   W[i] = w - p - L[i] + C[i]\n",
    "   print(\"Terminal wealth at \"+str(L[i])+ \" = \" +str(W[i]))"
   ]
  },
  {
   "cell_type": "code",
   "execution_count": null,
   "id": "3169f1fd",
   "metadata": {},
   "outputs": [],
   "source": []
  },
  {
   "cell_type": "code",
   "execution_count": null,
   "id": "a51b8ffa",
   "metadata": {},
   "outputs": [],
   "source": []
  },
  {
   "cell_type": "code",
   "execution_count": null,
   "id": "063a09e8",
   "metadata": {},
   "outputs": [],
   "source": []
  },
  {
   "cell_type": "code",
   "execution_count": null,
   "id": "8c1e2557",
   "metadata": {},
   "outputs": [],
   "source": []
  },
  {
   "cell_type": "code",
   "execution_count": null,
   "id": "421e2cd9",
   "metadata": {},
   "outputs": [],
   "source": []
  },
  {
   "cell_type": "code",
   "execution_count": null,
   "id": "0d497a31",
   "metadata": {},
   "outputs": [],
   "source": []
  },
  {
   "cell_type": "code",
   "execution_count": null,
   "id": "15e9b357",
   "metadata": {},
   "outputs": [],
   "source": []
  },
  {
   "cell_type": "code",
   "execution_count": null,
   "id": "ed69fee9",
   "metadata": {},
   "outputs": [],
   "source": []
  },
  {
   "cell_type": "code",
   "execution_count": null,
   "id": "51ef4178",
   "metadata": {},
   "outputs": [],
   "source": []
  }
 ],
 "metadata": {
  "kernelspec": {
   "display_name": "Python 3 (ipykernel)",
   "language": "python",
   "name": "python3"
  },
  "language_info": {
   "codemirror_mode": {
    "name": "ipython",
    "version": 3
   },
   "file_extension": ".py",
   "mimetype": "text/x-python",
   "name": "python",
   "nbconvert_exporter": "python",
   "pygments_lexer": "ipython3",
   "version": "3.9.12"
  }
 },
 "nbformat": 4,
 "nbformat_minor": 5
}
