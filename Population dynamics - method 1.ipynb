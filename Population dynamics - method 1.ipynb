{
 "cells": [
  {
   "cell_type": "code",
   "execution_count": 2,
   "id": "f6de7e58",
   "metadata": {},
   "outputs": [
    {
     "data": {
      "image/png": "[encoded data removed]",
      "text/plain": [
       "<Figure size 432x288 with 1 Axes>"
      ]
     },
     "metadata": {
      "needs_background": "light"
     },
     "output_type": "display_data"
    }
   ],
   "source": [
    "## Problem 2 \n",
    "\n",
    "from scipy.integrate import odeint\n",
    "import numpy as np \n",
    "import matplotlib.pyplot as plt\n",
    "\n",
    "# function that returns dz/dt\n",
    "def model(z,t):\n",
    "    s = z[0]\n",
    "    h = z[1]\n",
    "    dsdt = 0.00012*h - 0.1*s - 0.05*s\n",
    "    dhdt = -0.00035*s - + 0.04*h + 500\n",
    "    dzdt = [dsdt,dhdt] \n",
    "    return dzdt\n",
    "\n",
    "# initial condition \n",
    "z0 = [1000,3000] \n",
    "\n",
    "# number of time points \n",
    "n = 401\n",
    "\n",
    "# time points \n",
    "t = np.linspace(0,40,n)\n",
    "\n",
    "\n",
    "# store solution \n",
    "s = np.empty_like(t)\n",
    "h = np.empty_like(t)\n",
    "# record initial conditions \n",
    "s[0] = z0[0]\n",
    "h[0] = z0[1]\n",
    "\n",
    "# solve ODE \n",
    "for i in range(1,n):\n",
    "    # spant for next time step \n",
    "    tspan = [t[i-1],t[i]]\n",
    "    # solve for next step \n",
    "    z = odeint(model,z0,tspan)\n",
    "    # store solution for plotting \n",
    "    s[i] = z[1][0]\n",
    "    h[i] = z[1][1]\n",
    "    # next initial condition \n",
    "    z0 = z[1]\n",
    "\n",
    "# plot results \n",
    " \n",
    "plt.plot(t,s,'b-',label='s(t)') \n",
    "plt.plot(t,h,'r--',label='h(t)')\n",
    "plt.ylabel('population')\n",
    "plt.xlabel('time')\n",
    "plt.legend(loc='best')\n",
    "plt.show()"
   ]
  },
  {
   "cell_type": "code",
   "execution_count": null,
   "id": "878e96f2",
   "metadata": {},
   "outputs": [],
   "source": []
  },
  {
   "cell_type": "code",
   "execution_count": null,
   "id": "f13e7da1",
   "metadata": {},
   "outputs": [],
   "source": []
  },
  {
   "cell_type": "code",
   "execution_count": null,
   "id": "a4ba1d3b",
   "metadata": {},
   "outputs": [],
   "source": [
    "from scipy.integrate import odeint\n",
    "import numpy as np \n",
    "import matplotlib.pyplot as plt\n",
    "\n",
    "# function that returns dz/dt\n",
    "def model(z,t): \n",
    "    dxdt = 3.0 * np.exp(-t)\n",
    "    dydt = -z[1] + 3.0\n",
    "    dzdt = [dxdt,dydt]\n",
    "    \n",
    "    return dzdt\n",
    "\n",
    "# initial condition \n",
    "z0 = [0,0] \n",
    "\n",
    "# time points \n",
    "t = np.linspace(0,5)\n",
    "\n",
    "# solve ODE \n",
    "z = odeint(model,z0,t)\n",
    "\n",
    "# plot results \n",
    "plt.plot(t,z[:,0],'b-',label=r'$\\frac{dx}{dt}=3 \\; \\exp(-t)$')  # x axis(1st column)\n",
    "plt.plot(t,z[:,1],'r--',label=r'$\\frac{dy}{dt}=-y+3$')   # y axis (2nd column)\n",
    "plt.ylabel('response')\n",
    "plt.xlabel('time')\n",
    "plt.legend(loc='best')\n",
    "plt.show()\n",
    "\n",
    "\n"
   ]
  },
  {
   "cell_type": "code",
   "execution_count": null,
   "id": "0fe145fa",
   "metadata": {},
   "outputs": [],
   "source": [
    "import numpy as np\n",
    "import matplotlib.pyplot as plt\n",
    "from scipy.integrate import odeint\n",
    "from sympy import symbols, Eq, solve\n",
    "\n",
    "\n",
    "c, s = symbols('c,s')\n",
    "\n",
    "# defining equations\n",
    "eq1 = Eq((c*(((1-0)*(1-0.2)*s*(1-0.75)**1) - (0*(1-s)*(1-0)**1))), 0.35)\n",
    "print(\"Equation 1:\")\n",
    "print(eq1)\n",
    "eq2 = Eq((c*(((1-0.75)*(1-0.2)*(1-s)*(1-0)**1) - (0.75*s*(1-0.75)**1))), -0.1)\n",
    "print(\"Equation 2\")\n",
    "print(eq2)\n",
    "\n",
    "# solving the equation\n",
    "print(\" \")\n",
    "print(\"Values of 2 unknown variable are as follows:\")\n",
    "ans = solve((eq1, eq2), (c, s))\n",
    "a = ans[0]\n",
    "print(a)\n",
    "c_value = a[0]\n",
    "print(c_value)\n",
    "s_value = a[1]\n",
    "print(s_value)\n",
    "\n",
    "\n",
    "def dSdx(t,P,c1,s1):\n",
    "    h, g = P\n",
    "    return [c1*(((1-h)*(1-0.2)*s1*(1-g)**1) - (h*(1-s1)*(1-h)**1)),\n",
    "            c1*(((1-g)*(1-0.2)*(1-s1)*(1-h)**1) - (g*s1*(1-g)**1))]\n",
    "\n",
    "h_0 = 0.35\n",
    "g_0 = 0.65\n",
    "P_0 = (h_0 ,g_0)\n",
    "\n",
    "t = np.linspace(2006,2027,100)\n",
    "c1 = c_value\n",
    "s1 = s_value\n",
    "sol = odeint(dSdx, y0=P_0, t=t, tfirst=True,args=(c1,s1))\n",
    "\n",
    "h_sol = sol.T[0]  #y1 = first cosolve((eq1, eq2), (c, s)))lumn of sol\n",
    "g_sol = sol.T[1]  #y2 = 2nd column of sol\n",
    "\n",
    "plt.plot(t,h_sol,label=\"Hutch\")\n",
    "plt.plot(t,g_sol,label=\"Dialog\")\n",
    "plt.xlabel(\"Time(years)\")\n",
    "plt.ylabel(\"Fraction of Users\")\n",
    "plt.title(\"Population fraction of users over Time - k=0.2\")\n",
    "plt.legend()\n",
    "plt.show()\n"
   ]
  },
  {
   "cell_type": "code",
   "execution_count": null,
   "id": "407974ee",
   "metadata": {},
   "outputs": [],
   "source": []
  },
  {
   "cell_type": "code",
   "execution_count": null,
   "id": "7bb2af95",
   "metadata": {},
   "outputs": [],
   "source": [
    "\n"
   ]
  },
  {
   "cell_type": "code",
   "execution_count": null,
   "id": "4a920858",
   "metadata": {},
   "outputs": [],
   "source": []
  },
  {
   "cell_type": "code",
   "execution_count": null,
   "id": "01dc02c8",
   "metadata": {},
   "outputs": [],
   "source": []
  },
  {
   "cell_type": "code",
   "execution_count": null,
   "id": "419f3902",
   "metadata": {},
   "outputs": [],
   "source": []
  }
 ],
 "metadata": {
  "kernelspec": {
   "display_name": "Python 3 (ipykernel)",
   "language": "python",
   "name": "python3"
  },
  "language_info": {
   "codemirror_mode": {
    "name": "ipython",
    "version": 3
   },
   "file_extension": ".py",
   "mimetype": "text/x-python",
   "name": "python",
   "nbconvert_exporter": "python",
   "pygments_lexer": "ipython3",
   "version": "3.9.12"
  }
 },
 "nbformat": 4,
 "nbformat_minor": 5
}
