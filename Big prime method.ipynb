{
 "cells": [
  {
   "cell_type": "code",
   "execution_count": 1,
   "id": "63b5c684",
   "metadata": {},
   "outputs": [
    {
     "name": "stdout",
     "output_type": "stream",
     "text": [
      "[[ 4  5]\n",
      " [ 6 -7]]\n",
      "Dimention of the matrix A is  2 x 2\n",
      "Hadamard bound is of A is  98.0\n",
      "197.0\n",
      "199.0\n",
      "[[  4.   5.]\n",
      " [  6. 192.]]\n",
      "738.0\n",
      "141\n",
      "Determinant of A is -58\n"
     ]
    }
   ],
   "source": [
    "#Big Prime Method\n",
    "import numpy as np\n",
    "\n",
    "A=np.array([[4,5],[6,-7]])\n",
    "print(A)\n",
    "\n",
    "#det A <= n^(n/2)*B^(n)\n",
    "\n",
    "(r,w)=np.shape(A)\n",
    "n=r\n",
    "print(\"Dimention of the matrix A is \",n,\"x\",n)\n",
    "\n",
    "B=np.absolute(A).max()\n",
    "\n",
    "h=n**(n/2)*B**(n)\n",
    "print(\"Hadamard bound is of A is \",h)\n",
    "\n",
    "H=2*h\n",
    "\n",
    "P0=H+1\n",
    "for i in range(2,int(P0)):\n",
    "  if(P0%i==0):\n",
    "    P0=P0+1    \n",
    "print(P0)\n",
    "\n",
    "P=P0+1\n",
    "for i in range(2,int(P)):\n",
    "  if(P%i==0):\n",
    "    P=P+1    \n",
    "print(P)\n",
    "\n",
    "Am=np.empty((2,2))\n",
    "\n",
    "for j in range(0,n):\n",
    "  for k in range(0,n):\n",
    "    for l in range(0,int(P)):\n",
    "      if((A[j,k]-l)%P==0):\n",
    "        Am[j,k]=l\n",
    "print(Am)\n",
    "\n",
    "DAm=np.linalg.det(Am)\n",
    "print(DAm)\n",
    "\n",
    "for p in range(2,int(P)):\n",
    "  if((DAm-p)%P==0):\n",
    "    break\n",
    "print(p)\n",
    "\n",
    "D=[];\n",
    "for q in range(-int(P),int(P)):\n",
    "  if((p-q)%P==0):\n",
    "    D.append(q)\n",
    "\n",
    "for i in range(0,len(D)):\n",
    "  if(abs(D[i])==np.absolute(D).min()):\n",
    "    print(\"Determinant of A is\",D[i])"
   ]
  },
  {
   "cell_type": "code",
   "execution_count": null,
   "id": "2896f0bd",
   "metadata": {},
   "outputs": [],
   "source": []
  },
  {
   "cell_type": "code",
   "execution_count": null,
   "id": "63674098",
   "metadata": {},
   "outputs": [],
   "source": []
  },
  {
   "cell_type": "code",
   "execution_count": null,
   "id": "915a8788",
   "metadata": {},
   "outputs": [],
   "source": []
  },
  {
   "cell_type": "code",
   "execution_count": null,
   "id": "14f17865",
   "metadata": {},
   "outputs": [],
   "source": []
  },
  {
   "cell_type": "code",
   "execution_count": null,
   "id": "f63eafed",
   "metadata": {},
   "outputs": [],
   "source": []
  },
  {
   "cell_type": "code",
   "execution_count": null,
   "id": "ab9d9ef1",
   "metadata": {},
   "outputs": [],
   "source": []
  },
  {
   "cell_type": "code",
   "execution_count": null,
   "id": "f1bbc6e5",
   "metadata": {},
   "outputs": [],
   "source": []
  }
 ],
 "metadata": {
  "kernelspec": {
   "display_name": "Python 3 (ipykernel)",
   "language": "python",
   "name": "python3"
  },
  "language_info": {
   "codemirror_mode": {
    "name": "ipython",
    "version": 3
   },
   "file_extension": ".py",
   "mimetype": "text/x-python",
   "name": "python",
   "nbconvert_exporter": "python",
   "pygments_lexer": "ipython3",
   "version": "3.9.12"
  }
 },
 "nbformat": 4,
 "nbformat_minor": 5
}
