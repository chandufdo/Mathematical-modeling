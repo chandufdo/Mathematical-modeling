{
 "cells": [
  {
   "cell_type": "code",
   "execution_count": 1,
   "id": "c75845a3",
   "metadata": {},
   "outputs": [
    {
     "name": "stdout",
     "output_type": "stream",
     "text": [
      "Equation 1:\n",
      "Eq(0.2*c*s, 0.35)\n",
      "Equation 2\n",
      "Eq(c*(0.2 - 0.3875*s), -0.1)\n",
      " \n",
      "Values of 2 unknown variable are as follows:\n",
      "(2.89062500000000, 0.605405405405405)\n",
      "2.89062500000000\n",
      "0.605405405405405\n"
     ]
    },
    {
     "data": {
      "image/png": "[encoded data removed]",
      "text/plain": [
       "<Figure size 432x288 with 1 Axes>"
      ]
     },
     "metadata": {
      "needs_background": "light"
     },
     "output_type": "display_data"
    }
   ],
   "source": [
    "import numpy as np\n",
    "import matplotlib.pyplot as plt\n",
    "from scipy.integrate import odeint\n",
    "from sympy import symbols, Eq, solve\n",
    "\n",
    "\n",
    "c, s = symbols('c,s')\n",
    "\n",
    "# defining equations\n",
    "eq1 = Eq((c*(((1-0)*(1-0.2)*s*(1-0.75)**1) - (0*(1-s)*(1-0)**1))), 0.35)\n",
    "print(\"Equation 1:\")\n",
    "print(eq1)\n",
    "eq2 = Eq((c*(((1-0.75)*(1-0.2)*(1-s)*(1-0)**1) - (0.75*s*(1-0.75)**1))), -0.1)\n",
    "print(\"Equation 2\")\n",
    "print(eq2)\n",
    "\n",
    "# solving the equation\n",
    "print(\" \")\n",
    "print(\"Values of 2 unknown variable are as follows:\")\n",
    "ans = solve((eq1, eq2), (c, s))\n",
    "a = ans[0]\n",
    "print(a)\n",
    "c_value = a[0]\n",
    "print(c_value)\n",
    "s_value = a[1]\n",
    "print(s_value)\n",
    "\n",
    "\n",
    "def dSdx(t,P,c1,s1):\n",
    "    h, g = P\n",
    "    return [c1*(((1-h)*(1-0.2)*s1*(1-g)**1) - (h*(1-s1)*(1-h)**1)),\n",
    "            c1*(((1-g)*(1-0.2)*(1-s1)*(1-h)**1) - (g*s1*(1-g)**1))]\n",
    "\n",
    "h_0 = 0.35\n",
    "g_0 = 0.65\n",
    "P_0 = (h_0 ,g_0)\n",
    "\n",
    "t = np.linspace(2006,2027,100)\n",
    "c1 = c_value\n",
    "s1 = s_value\n",
    "sol = odeint(dSdx, y0=P_0, t=t, tfirst=True,args=(c1,s1))\n",
    "\n",
    "h_sol = sol.T[0]  #y1 = first cosolve((eq1, eq2), (c, s)))lumn of sol\n",
    "g_sol = sol.T[1]  #y2 = 2nd column of sol\n",
    "\n",
    "plt.plot(t,h_sol,label=\"Hutch\")\n",
    "plt.plot(t,g_sol,label=\"Dialog\")\n",
    "plt.xlabel(\"Time(years)\")\n",
    "plt.ylabel(\"Fraction of Users\")\n",
    "plt.title(\"Population fraction of users over Time - k=0.2\")\n",
    "plt.legend()\n",
    "plt.show()\n"
   ]
  },
  {
   "cell_type": "code",
   "execution_count": null,
   "id": "c8b5297a",
   "metadata": {},
   "outputs": [],
   "source": []
  },
  {
   "cell_type": "code",
   "execution_count": null,
   "id": "060323ea",
   "metadata": {},
   "outputs": [],
   "source": []
  },
  {
   "cell_type": "code",
   "execution_count": null,
   "id": "826343b3",
   "metadata": {},
   "outputs": [],
   "source": []
  },
  {
   "cell_type": "code",
   "execution_count": null,
   "id": "339d289f",
   "metadata": {},
   "outputs": [],
   "source": []
  },
  {
   "cell_type": "code",
   "execution_count": null,
   "id": "7dced0fb",
   "metadata": {},
   "outputs": [],
   "source": []
  },
  {
   "cell_type": "code",
   "execution_count": null,
   "id": "40b2efe6",
   "metadata": {},
   "outputs": [],
   "source": []
  },
  {
   "cell_type": "code",
   "execution_count": null,
   "id": "30a53bbd",
   "metadata": {},
   "outputs": [],
   "source": []
  }
 ],
 "metadata": {
  "kernelspec": {
   "display_name": "Python 3 (ipykernel)",
   "language": "python",
   "name": "python3"
  },
  "language_info": {
   "codemirror_mode": {
    "name": "ipython",
    "version": 3
   },
   "file_extension": ".py",
   "mimetype": "text/x-python",
   "name": "python",
   "nbconvert_exporter": "python",
   "pygments_lexer": "ipython3",
   "version": "3.9.12"
  }
 },
 "nbformat": 4,
 "nbformat_minor": 5
}
