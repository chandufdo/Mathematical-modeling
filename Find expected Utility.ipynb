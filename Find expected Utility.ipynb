{
 "cells": [
  {
   "cell_type": "code",
   "execution_count": 1,
   "id": "b22ab530",
   "metadata": {},
   "outputs": [
    {
     "name": "stdout",
     "output_type": "stream",
     "text": [
      "Enter the initial wealth : 100\n",
      "Enter the no:of losses : 4\n",
      "Enter the premium : 20\n",
      "Value of losses\n",
      "L[0] = 0\n",
      "L[1] = 20\n",
      "L[2] = 5\n",
      "L[3] = 80\n",
      "Probabilities\n",
      "p[0] = 0.4\n",
      "p[1] = 0.3\n",
      "p[2] = 0.2\n",
      "p[3] = 0.1\n",
      "Enter the value of gamma : 5\n",
      "Expected Utility value is 1.8528317464351127\n"
     ]
    }
   ],
   "source": [
    "import numpy as np\n",
    "import math\n",
    "\n",
    "\n",
    "w = float(input(\"Enter the initial wealth : \"))\n",
    "n = int(input(\"Enter the no:of losses : \"))\n",
    "pr = float(input(\"Enter the premium : \"))\n",
    "L = np.zeros(n)\n",
    "\n",
    "print(\"Value of losses\")\n",
    "for i in range(n):\n",
    "  L[i] = float(input( 'L['+str(i)+'] = '))\n",
    "\n",
    "p = np.zeros(n) #value of probability\n",
    "\n",
    "print(\"Probabilities\")\n",
    "for i in range(n):\n",
    "   p[i] = float(input( 'p['+str(i)+'] = '))\n",
    "\n",
    "#W = terminal wealth\n",
    "W = np.zeros(n)\n",
    "C = L /2\n",
    "\n",
    "for i in range(n):\n",
    "  W[i] = w - pr - L[i] + C[i]\n",
    "  #print(\"Terminal wealth at \"+str(L[i])+ \" is \" +str(W[i]))\n",
    "#Utility function\n",
    "U = np.zeros(n)\n",
    "\n",
    "gamma = float(input(\"Enter the value of gamma : \"))\n",
    "for i in range(n):\n",
    "   #U[i] = 1 - math.exp(-gamma*W[i]) #Exponential Utility\n",
    "   #U[i] = W[i]**gamma #Power Utility\n",
    "   U[i] = math.log(W[i],10) #Logarithmic Utility\n",
    "#print(\"Utility value at \"+str(L[i])+ \" is \" +str(U[i]))\n",
    "\n",
    "\n",
    "# expected utility value\n",
    "E = np.zeros(n)\n",
    "for i in range(n):\n",
    "   E[i] = U[i] * p[i]\n",
    "\n",
    "EU = sum(E)\n",
    "print(\"Expected Utility value is \" +str(EU))"
   ]
  },
  {
   "cell_type": "code",
   "execution_count": null,
   "id": "4c2e450d",
   "metadata": {},
   "outputs": [],
   "source": []
  },
  {
   "cell_type": "code",
   "execution_count": null,
   "id": "7f46b45b",
   "metadata": {},
   "outputs": [],
   "source": []
  },
  {
   "cell_type": "code",
   "execution_count": null,
   "id": "6fd9b5c3",
   "metadata": {},
   "outputs": [],
   "source": []
  },
  {
   "cell_type": "code",
   "execution_count": null,
   "id": "84b9cdf1",
   "metadata": {},
   "outputs": [],
   "source": []
  },
  {
   "cell_type": "code",
   "execution_count": null,
   "id": "0eea9f74",
   "metadata": {},
   "outputs": [],
   "source": []
  },
  {
   "cell_type": "code",
   "execution_count": null,
   "id": "b7a6e3fa",
   "metadata": {},
   "outputs": [],
   "source": [
    "\n"
   ]
  }
 ],
 "metadata": {
  "kernelspec": {
   "display_name": "Python 3 (ipykernel)",
   "language": "python",
   "name": "python3"
  },
  "language_info": {
   "codemirror_mode": {
    "name": "ipython",
    "version": 3
   },
   "file_extension": ".py",
   "mimetype": "text/x-python",
   "name": "python",
   "nbconvert_exporter": "python",
   "pygments_lexer": "ipython3",
   "version": "3.9.12"
  }
 },
 "nbformat": 4,
 "nbformat_minor": 5
}
